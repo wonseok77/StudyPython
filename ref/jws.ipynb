{
 "cells": [
  {
   "cell_type": "markdown",
   "metadata": {},
   "source": [
    "### 1번문제\n"
   ]
  },
  {
   "cell_type": "code",
   "execution_count": 32,
   "metadata": {},
   "outputs": [
    {
     "name": "stdout",
     "output_type": "stream",
     "text": [
      "34.21194399759284\n"
     ]
    }
   ],
   "source": [
    "# 시험 1번문제\n",
    "import math as m\n",
    "r=float(input('반지름을 입력하세요'))\n",
    "pi = m.pi\n",
    "print(r*r*pi)"
   ]
  },
  {
   "cell_type": "markdown",
   "metadata": {},
   "source": [
    "### 2번문제"
   ]
  },
  {
   "cell_type": "code",
   "execution_count": 2,
   "metadata": {},
   "outputs": [
    {
     "name": "stdout",
     "output_type": "stream",
     "text": [
      "수성\n"
     ]
    }
   ],
   "source": [
    "# 시험 2번문제\n",
    "dic={'Mercury':'수성','Venus':'금성','Earth':'지구','Mars':'화성', 'Jupiter':'목성', 'Saturn':'토성','Uranus':'천왕성','Neptune':'혜왕성','Pluto':'명왕성'}\n",
    "name = input('찾을 행성의 영어이름을 적으세요')\n",
    "print(dic[name])"
   ]
  },
  {
   "cell_type": "markdown",
   "metadata": {},
   "source": [
    "### 3번문제"
   ]
  },
  {
   "cell_type": "code",
   "execution_count": 3,
   "metadata": {},
   "outputs": [
    {
     "name": "stdout",
     "output_type": "stream",
     "text": [
      "단어의 수는 2개 입니다\n"
     ]
    }
   ],
   "source": [
    "# 시험 3번문제\n",
    "letter = str(input('한글 문자열을 입력하세요'))\n",
    "result = len(letter.split())\n",
    "print('단어의 수는 '+ str(result)  + '개 입니다')"
   ]
  },
  {
   "cell_type": "markdown",
   "metadata": {},
   "source": [
    "### 4번문제"
   ]
  },
  {
   "cell_type": "code",
   "execution_count": 70,
   "metadata": {},
   "outputs": [
    {
     "name": "stdout",
     "output_type": "stream",
     "text": [
      "['2', '9', '5', '4', '1']\n"
     ]
    }
   ],
   "source": [
    "# 시험 4번문제\n",
    "seq = input().split()\n",
    "print(seq[::-1])\n"
   ]
  },
  {
   "cell_type": "markdown",
   "metadata": {},
   "source": [
    "### 5번문제"
   ]
  },
  {
   "cell_type": "code",
   "execution_count": 71,
   "metadata": {},
   "outputs": [
    {
     "name": "stdout",
     "output_type": "stream",
     "text": [
      "6단 시작\n",
      "6x1=  6 \n",
      "6x2= 12 \n",
      "6x3= 18 \n",
      "6x4= 24 \n",
      "6x5= 30 \n",
      "6x6= 36 \n",
      "6x7= 42 \n",
      "6x8= 48 \n",
      "6x9= 54 \n"
     ]
    }
   ],
   "source": [
    "# 시험 5번문제\n",
    "x = int(input(k))\n",
    "def gugudan(x):\n",
    "     print(f'{x}단 시작')\n",
    "     for y in range(1,10):\n",
    "          print(f'{x}x{y}={x*y:3d}', end = ' ')\n",
    "          print()\n",
    "\n",
    "gugudan(x)"
   ]
  }
 ],
 "metadata": {
  "interpreter": {
   "hash": "85c87154728cedc75468b577c71868dabe33df607f2624d1a19aea11c192a901"
  },
  "kernelspec": {
   "display_name": "Python 3.9.12 64-bit",
   "language": "python",
   "name": "python3"
  },
  "language_info": {
   "codemirror_mode": {
    "name": "ipython",
    "version": 3
   },
   "file_extension": ".py",
   "mimetype": "text/x-python",
   "name": "python",
   "nbconvert_exporter": "python",
   "pygments_lexer": "ipython3",
   "version": "3.9.12"
  },
  "orig_nbformat": 4
 },
 "nbformat": 4,
 "nbformat_minor": 2
}
