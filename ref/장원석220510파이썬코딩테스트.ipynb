{
 "cells": [
  {
   "cell_type": "markdown",
   "metadata": {},
   "source": [
    "### 1번문제\n"
   ]
  },
  {
   "cell_type": "code",
   "execution_count": 32,
   "metadata": {},
   "outputs": [
    {
     "name": "stdout",
     "output_type": "stream",
     "text": [
      "34.21194399759284\n"
     ]
    }
   ],
   "source": [
    "# 시험 1번문제\n",
    "import math as m\n",
    "r=float(input('반지름을 입력하세요'))\n",
    "pi = m.pi\n",
    "print(r*r*pi)"
   ]
  },
  {
   "cell_type": "markdown",
   "metadata": {},
   "source": [
    "### 2번문제"
   ]
  },
  {
   "cell_type": "code",
   "execution_count": 41,
   "metadata": {},
   "outputs": [
    {
     "name": "stdout",
     "output_type": "stream",
     "text": [
      "금성\n"
     ]
    }
   ],
   "source": [
    "# 시험 2번문제\n",
    "dic={'Mercury':'수성','Venus':'금성','Earth':'지구','Mars':'화성', 'Jupiter':'목성', 'Saturn':'토성','Uranus':'천왕성','Neptune':'혜왕성','Pluto':'명왕성'}\n",
    "name = input('찾을 행성의 영어이름을 적으세요')\n",
    "print(dic[name])"
   ]
  },
  {
   "cell_type": "markdown",
   "metadata": {},
   "source": [
    "### 3번문제"
   ]
  },
  {
   "cell_type": "code",
   "execution_count": 69,
   "metadata": {},
   "outputs": [
    {
     "name": "stdout",
     "output_type": "stream",
     "text": [
      "단어의 수는 6개 입니다\n"
     ]
    }
   ],
   "source": [
    "# 시험 3번문제\n",
    "letter = str(input('한글 문자열을 입력하세요'))\n",
    "result = len(letter.split())\n",
    "print('단어의 수는 '+ str(result)  + '개 입니다')"
   ]
  },
  {
   "cell_type": "markdown",
   "metadata": {},
   "source": [
    "### 4번문제"
   ]
  },
  {
   "cell_type": "code",
   "execution_count": 70,
   "metadata": {},
   "outputs": [
    {
     "name": "stdout",
     "output_type": "stream",
     "text": [
      "['2', '9', '5', '4', '1']\n"
     ]
    }
   ],
   "source": [
    "# 시험 4번문제\n",
    "seq = input().split()\n",
    "print(seq[::-1])\n"
   ]
  },
  {
   "cell_type": "markdown",
   "metadata": {},
   "source": [
    "### 5번문제"
   ]
  },
  {
   "cell_type": "code",
   "execution_count": 68,
   "metadata": {},
   "outputs": [
    {
     "name": "stdout",
     "output_type": "stream",
     "text": [
      "7단 시작\n",
      "7x1=  7 \n",
      "7x2= 14 \n",
      "7x3= 21 \n",
      "7x4= 28 \n",
      "7x5= 35 \n",
      "7x6= 42 \n",
      "7x7= 49 \n",
      "7x8= 56 \n",
      "7x9= 63 \n"
     ]
    }
   ],
   "source": [
    "# 시험 5번문제\n",
    "x = int(input(k))\n",
    "def gugudan(x):\n",
    "     print(f'{x}단 시작')\n",
    "     for y in range(1,10):\n",
    "          print(f'{x}x{y}={x*y:3d}', end = ' ')\n",
    "          print()\n",
    "\n",
    "gugudan(x)"
   ]
  }
 ],
 "metadata": {
  "interpreter": {
   "hash": "85c87154728cedc75468b577c71868dabe33df607f2624d1a19aea11c192a901"
  },
  "kernelspec": {
   "display_name": "Python 3.9.12 64-bit",
   "language": "python",
   "name": "python3"
  },
  "language_info": {
   "codemirror_mode": {
    "name": "ipython",
    "version": 3
   },
   "file_extension": ".py",
   "mimetype": "text/x-python",
   "name": "python",
   "nbconvert_exporter": "python",
   "pygments_lexer": "ipython3",
   "version": "3.9.12"
  },
  "orig_nbformat": 4
 },
 "nbformat": 4,
 "nbformat_minor": 2
}
