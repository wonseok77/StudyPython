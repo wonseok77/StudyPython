{
 "cells": [
  {
   "cell_type": "markdown",
   "id": "32103fe8",
   "metadata": {},
   "source": [
    "# 00_파이썬기초 복습"
   ]
  },
  {
   "cell_type": "markdown",
   "id": "8421a321",
   "metadata": {},
   "source": [
    "### 1) range()를 사용하여, 1~100의 수 중, 7의 배수를 리스트 a에 담으시오."
   ]
  },
  {
   "cell_type": "code",
   "execution_count": null,
   "id": "f9bb61a1",
   "metadata": {
    "scrolled": false
   },
   "outputs": [],
   "source": []
  },
  {
   "cell_type": "markdown",
   "id": "610d235c",
   "metadata": {},
   "source": [
    "### 2) a에서 인덱스 4~7까지 조회하시오."
   ]
  },
  {
   "cell_type": "code",
   "execution_count": null,
   "id": "abfa02b3",
   "metadata": {},
   "outputs": [],
   "source": []
  },
  {
   "cell_type": "markdown",
   "id": "f267bed8",
   "metadata": {},
   "source": [
    "### 3) a의 끝에서 세번째 값을 조회하시오."
   ]
  },
  {
   "cell_type": "code",
   "execution_count": null,
   "id": "1fa943c6",
   "metadata": {},
   "outputs": [],
   "source": []
  },
  {
   "cell_type": "markdown",
   "id": "2d029dd3",
   "metadata": {},
   "source": [
    "### 4) a에 데이터 갯수(길이)를 구하시오."
   ]
  },
  {
   "cell_type": "code",
   "execution_count": null,
   "id": "b1c94ea5",
   "metadata": {},
   "outputs": [],
   "source": []
  },
  {
   "cell_type": "markdown",
   "id": "3a351a5e",
   "metadata": {},
   "source": [
    "### 5) a 값들의 합과 평균을 구하시오."
   ]
  },
  {
   "cell_type": "code",
   "execution_count": null,
   "id": "f55e185a",
   "metadata": {},
   "outputs": [],
   "source": []
  },
  {
   "cell_type": "markdown",
   "id": "a1f9f7b2",
   "metadata": {},
   "source": [
    "### 6) [심화] 반복문을 이용하여 100이하의 소수(prime number)를 리스트에 담아봅시다.\n",
    "* 소수(prime number) : 1과 자기자신으로만 나누어 지는 수"
   ]
  },
  {
   "cell_type": "code",
   "execution_count": null,
   "id": "0addfc8f",
   "metadata": {},
   "outputs": [],
   "source": []
  },
  {
   "cell_type": "markdown",
   "id": "87a34e47",
   "metadata": {},
   "source": [
    "### 7) [심화] 6번의 코드를 참조하여, 소수 추출기 함수를 만들어봅시다.\n",
    "* 입력변수 : 정수 n\n",
    "* 처리 : n 이하의 소수를 리스트에 저장\n",
    "* 출력변수 : 소수 리스트\n",
    "* [주의] 입력변수 n은 2이상의 정수여야 함.(입력값 체크 부분 포함)"
   ]
  },
  {
   "cell_type": "code",
   "execution_count": null,
   "id": "a27d5134",
   "metadata": {},
   "outputs": [],
   "source": []
  },
  {
   "cell_type": "markdown",
   "id": "2217cfb7",
   "metadata": {},
   "source": [
    "### 8) 아래 값으로 딕셔너리 d를 생성해봅시다."
   ]
  },
  {
   "cell_type": "markdown",
   "id": "b9f9a311",
   "metadata": {},
   "source": [
    "|key | value|\n",
    "|----|----|\n",
    "|v1 | [1,2,3]|\n",
    "|v2 | {'a':23, 'b':[4,5]}|"
   ]
  },
  {
   "cell_type": "code",
   "execution_count": null,
   "id": "f3c973e3",
   "metadata": {},
   "outputs": [],
   "source": []
  },
  {
   "cell_type": "markdown",
   "id": "ca6dc4e7",
   "metadata": {},
   "source": [
    "### 9) d에서 [1,2,3]을 출력해봅시다."
   ]
  },
  {
   "cell_type": "code",
   "execution_count": null,
   "id": "a7e61d5c",
   "metadata": {},
   "outputs": [],
   "source": []
  },
  {
   "cell_type": "markdown",
   "id": "0e94150f",
   "metadata": {},
   "source": [
    "### 10) d에서 23을 출력해봅시다."
   ]
  },
  {
   "cell_type": "code",
   "execution_count": null,
   "id": "724ccbf1",
   "metadata": {},
   "outputs": [],
   "source": []
  },
  {
   "cell_type": "markdown",
   "id": "50c78ee7",
   "metadata": {},
   "source": [
    "### 11) d에서 5를 출력해봅시다."
   ]
  },
  {
   "cell_type": "code",
   "execution_count": null,
   "id": "daac49db",
   "metadata": {},
   "outputs": [],
   "source": []
  },
  {
   "cell_type": "markdown",
   "id": "0de984b1",
   "metadata": {},
   "source": [
    "### 12) d에 'newKey', value(1,2)를 추가하고 출력해봅시다."
   ]
  },
  {
   "cell_type": "code",
   "execution_count": null,
   "id": "4d0f0c06",
   "metadata": {
    "scrolled": true
   },
   "outputs": [],
   "source": []
  },
  {
   "cell_type": "markdown",
   "id": "a3b532d7",
   "metadata": {},
   "source": [
    "### 13) [심화] 반복문과 딕셔너리를 사용하여 주어진 단어에서 가장 많이 사용된 알파벳을 출력해봅시다.\n",
    "* 주어진 단어 : \"Big Data Analysis\"\n",
    "* 대문자, 소문자는 구분하지 않습니다.\n",
    "* 가장 많이 사용된 알파벳을 2개 이상일 경우, 전부 출력해줍니다."
   ]
  },
  {
   "cell_type": "code",
   "execution_count": null,
   "id": "2a137d01",
   "metadata": {},
   "outputs": [],
   "source": []
  }
 ],
 "metadata": {
  "interpreter": {
   "hash": "e28d35bccbadb44b83755d1086fed42c654da6cd559b4dec83a572c4a59f5af3"
  },
  "kernelspec": {
   "display_name": "Python 3",
   "language": "python",
   "name": "python3"
  },
  "language_info": {
   "codemirror_mode": {
    "name": "ipython",
    "version": 3
   },
   "file_extension": ".py",
   "mimetype": "text/x-python",
   "name": "python",
   "nbconvert_exporter": "python",
   "pygments_lexer": "ipython3",
   "version": "3.8.8"
  }
 },
 "nbformat": 4,
 "nbformat_minor": 5
}
